{
 "cells": [
  {
   "cell_type": "code",
   "execution_count": 1,
   "id": "ef8bc0f6",
   "metadata": {},
   "outputs": [
    {
     "ename": "ModuleNotFoundError",
     "evalue": "No module named 'geopandas'",
     "output_type": "error",
     "traceback": [
      "\u001b[0;31m---------------------------------------------------------------------------\u001b[0m",
      "\u001b[0;31mModuleNotFoundError\u001b[0m                       Traceback (most recent call last)",
      "\u001b[0;32m/var/folders/36/w8jclnw52p3d1qr2544j3lth0000gn/T/ipykernel_50210/1030277098.py\u001b[0m in \u001b[0;36m<module>\u001b[0;34m\u001b[0m\n\u001b[1;32m      5\u001b[0m \u001b[0;32mimport\u001b[0m \u001b[0mseaborn\u001b[0m \u001b[0;32mas\u001b[0m \u001b[0msns\u001b[0m\u001b[0;34m\u001b[0m\u001b[0;34m\u001b[0m\u001b[0m\n\u001b[1;32m      6\u001b[0m \u001b[0;32mimport\u001b[0m \u001b[0mplotly\u001b[0m\u001b[0;34m\u001b[0m\u001b[0;34m\u001b[0m\u001b[0m\n\u001b[0;32m----> 7\u001b[0;31m \u001b[0;32mimport\u001b[0m \u001b[0mgeopandas\u001b[0m \u001b[0;32mas\u001b[0m \u001b[0mgpd\u001b[0m\u001b[0;34m\u001b[0m\u001b[0;34m\u001b[0m\u001b[0m\n\u001b[0m\u001b[1;32m      8\u001b[0m \u001b[0;32mfrom\u001b[0m \u001b[0mshapely\u001b[0m\u001b[0;34m.\u001b[0m\u001b[0mgeometry\u001b[0m \u001b[0;32mimport\u001b[0m \u001b[0mPoint\u001b[0m\u001b[0;34m,\u001b[0m \u001b[0mPolygon\u001b[0m\u001b[0;34m\u001b[0m\u001b[0;34m\u001b[0m\u001b[0m\n",
      "\u001b[0;31mModuleNotFoundError\u001b[0m: No module named 'geopandas'"
     ]
    }
   ],
   "source": [
    "from sqlalchemy import create_engine\n",
    "import pandas as pd\n",
    "import matplotlib.pyplot as plt\n",
    "import matplotlib\n",
    "import seaborn as sns\n",
    "import plotly\n",
    "import geopandas as gpd\n",
    "from shapely.geometry import Point, Polygon"
   ]
  },
  {
   "cell_type": "code",
   "execution_count": null,
   "id": "9bcc4e69",
   "metadata": {},
   "outputs": [],
   "source": [
    "engine = create_engine(\"sqlite:////Users/nathanieldirenzo/Documents/GitHub/NBM_EDA_Student/resources/get_mta/mta_data.db\")"
   ]
  },
  {
   "cell_type": "code",
   "execution_count": null,
   "id": "1667d4de",
   "metadata": {},
   "outputs": [],
   "source": [
    "df = pd.read_sql('SELECT * FROM mta_data ORDER BY RANDOM() LIMIT 100000;', engine)\n",
    "df.head()"
   ]
  },
  {
   "cell_type": "code",
   "execution_count": null,
   "id": "89654b28",
   "metadata": {},
   "outputs": [],
   "source": [
    "df = df.rename(columns={'C/A': 'control_area', 'UNIT': 'unit', 'SCP': 'subunit_channel_pos', 'STATION':'station', 'LINENAME':'subway_lines', 'DIVISION':'division', 'DATE':'date', 'TIME':'time', 'DESC':'desc', 'ENTRIES':'entries', 'EXITS':'exits'})"
   ]
  },
  {
   "cell_type": "code",
   "execution_count": null,
   "id": "f7f03db4",
   "metadata": {},
   "outputs": [],
   "source": [
    "df= df.sort_values(by=['control_area', 'unit', 'subunit_channel_pos', 'station', 'date', 'time'])"
   ]
  },
  {
   "cell_type": "code",
   "execution_count": null,
   "id": "7f97619a",
   "metadata": {},
   "outputs": [],
   "source": [
    "df['date_time'] = df.date + ' ' + df.time"
   ]
  },
  {
   "cell_type": "code",
   "execution_count": null,
   "id": "f623d89c",
   "metadata": {},
   "outputs": [],
   "source": [
    "df.head()"
   ]
  },
  {
   "cell_type": "code",
   "execution_count": null,
   "id": "72ef778d",
   "metadata": {},
   "outputs": [],
   "source": [
    "df['net_entries'] = df.entries.diff()\n",
    "df['net_exits'] = df.exits.diff()\n",
    "df['net_traffic'] = df.entries.diff() + df.exits.diff()"
   ]
  },
  {
   "cell_type": "code",
   "execution_count": null,
   "id": "747bd1de",
   "metadata": {
    "scrolled": true
   },
   "outputs": [],
   "source": [
    "df.head()"
   ]
  },
  {
   "cell_type": "code",
   "execution_count": null,
   "id": "13b93f7d",
   "metadata": {},
   "outputs": [],
   "source": [
    "df.date_time = pd.to_datetime(df['date_time'], format = '%m/%d/%Y %H:%M:%S')"
   ]
  },
  {
   "cell_type": "code",
   "execution_count": null,
   "id": "071f5c19",
   "metadata": {},
   "outputs": [],
   "source": [
    "df['audit_length_hours'] = df.date_time.diff() / pd.Timedelta(hours=1)"
   ]
  },
  {
   "cell_type": "code",
   "execution_count": null,
   "id": "21627b02",
   "metadata": {},
   "outputs": [],
   "source": [
    "df.head()"
   ]
  },
  {
   "cell_type": "code",
   "execution_count": null,
   "id": "3ad6bed4",
   "metadata": {},
   "outputs": [],
   "source": [
    "df['avg_hourly_entries'] = df['net_entries'] / df['audit_length_hours']\n",
    "df['avg_hourly_exits'] = df['net_exits'] / df['audit_length_hours']\n",
    "df['avg_hourly_traffic'] = df['net_traffic'] / df['audit_length_hours']"
   ]
  },
  {
   "cell_type": "code",
   "execution_count": null,
   "id": "5f42b582",
   "metadata": {},
   "outputs": [],
   "source": [
    "df.head()"
   ]
  },
  {
   "cell_type": "code",
   "execution_count": null,
   "id": "1cf03062",
   "metadata": {},
   "outputs": [],
   "source": [
    "df['pct_change_entries'] = df['net_entries'].pct_change() * 100\n",
    "df['pct_change_exits'] = df['net_exits'].pct_change() * 100\n",
    "df['pct_change_traffic'] = df['net_traffic'].pct_change() * 100"
   ]
  },
  {
   "cell_type": "code",
   "execution_count": null,
   "id": "c011daa6",
   "metadata": {},
   "outputs": [],
   "source": [
    "df.head()"
   ]
  },
  {
   "cell_type": "code",
   "execution_count": null,
   "id": "1fbbb57a",
   "metadata": {},
   "outputs": [],
   "source": [
    "df['turnstile_id_code'] = df.control_area + '_' + df.unit + '_' + df.subunit_channel_pos"
   ]
  },
  {
   "cell_type": "code",
   "execution_count": null,
   "id": "4760724a",
   "metadata": {},
   "outputs": [],
   "source": [
    "df = df.drop(labels=['control_area', 'unit', 'subunit_channel_pos', 'division', 'desc', 'entries', 'exits'],axis=1)"
   ]
  },
  {
   "cell_type": "code",
   "execution_count": null,
   "id": "3a6e022f",
   "metadata": {},
   "outputs": [],
   "source": [
    "df.head()"
   ]
  },
  {
   "cell_type": "code",
   "execution_count": null,
   "id": "07f4d296",
   "metadata": {},
   "outputs": [],
   "source": [
    "cols = df.columns.tolist()\n",
    "cols"
   ]
  },
  {
   "cell_type": "code",
   "execution_count": null,
   "id": "38e81343",
   "metadata": {},
   "outputs": [],
   "source": [
    "df2 = pd.read_csv('DOITT_SUBWAY_STATION_01_13SEPT2010.csv')"
   ]
  },
  {
   "cell_type": "code",
   "execution_count": null,
   "id": "0f25fc06",
   "metadata": {},
   "outputs": [],
   "source": [
    "cols = cols[-1:] + cols[:-1]\n",
    "cols"
   ]
  },
  {
   "cell_type": "code",
   "execution_count": null,
   "id": "793e42c1",
   "metadata": {},
   "outputs": [],
   "source": [
    "df = df[cols]"
   ]
  },
  {
   "cell_type": "code",
   "execution_count": null,
   "id": "416767c4",
   "metadata": {},
   "outputs": [],
   "source": [
    "df.head()"
   ]
  },
  {
   "cell_type": "code",
   "execution_count": null,
   "id": "46eb9511",
   "metadata": {},
   "outputs": [],
   "source": [
    "nta_map = gpd.read_file('/Users/nathanieldirenzo/Documents/GitHub/NYC_MTA_EDA_Project/nynta2020.shp')\n",
    "nta_map.head()\n",
    "nta_map.to_crs(4326, inplace=True)\n",
    "nta_map.crs"
   ]
  },
  {
   "cell_type": "code",
   "execution_count": null,
   "id": "3be6ae65",
   "metadata": {},
   "outputs": [],
   "source": [
    "fig,ax = plt.subplots(figsize=(15,15))\n",
    "nta_map.plot(ax=ax)"
   ]
  },
  {
   "cell_type": "code",
   "execution_count": null,
   "id": "92828284",
   "metadata": {},
   "outputs": [],
   "source": [
    "station_df = gpd.read_file('Subway Stations.geojson')\n",
    "station_df"
   ]
  },
  {
   "cell_type": "code",
   "execution_count": null,
   "id": "112ccca2",
   "metadata": {
    "scrolled": false
   },
   "outputs": [],
   "source": [
    "station_df.head()"
   ]
  },
  {
   "cell_type": "code",
   "execution_count": null,
   "id": "5f42c9cc",
   "metadata": {},
   "outputs": [],
   "source": [
    "crs = {'init':'epsg:4326'}\n",
    "geometry = [Point(xy) for xy in station_df['geometry']]\n",
    "geometry[:3]"
   ]
  },
  {
   "cell_type": "code",
   "execution_count": null,
   "id": "4fd241e0",
   "metadata": {},
   "outputs": [],
   "source": [
    "geo_df = gpd.GeoDataFrame(df2, geometry=geometry)\n",
    "geo_df.head()\n",
    "geo_df = geo_df.set_crs('EPSG:4326')\n",
    "#nta_map['data_norm'] = nta_map['geometry']/nta_map.area"
   ]
  },
  {
   "cell_type": "code",
   "execution_count": null,
   "id": "7066043d",
   "metadata": {},
   "outputs": [],
   "source": [
    "fig,ax = plt.subplots(figsize=(10,10))\n",
    "geo_df.plot(ax=ax, markersize=20, color='blue', marker='o', label = 'Station')"
   ]
  },
  {
   "cell_type": "code",
   "execution_count": null,
   "id": "3f96c1eb",
   "metadata": {},
   "outputs": [],
   "source": [
    "fig,ax = plt.subplots(figsize=(20,20))\n",
    "nta_map.plot(ax=ax,)\n",
    "geo_df.plot(ax=ax, markersize=20, color='red', marker='o', label = 'Station')"
   ]
  },
  {
   "cell_type": "code",
   "execution_count": null,
   "id": "eabd1c2a",
   "metadata": {},
   "outputs": [],
   "source": []
  }
 ],
 "metadata": {
  "kernelspec": {
   "display_name": "Python 3 (ipykernel)",
   "language": "python",
   "name": "python3"
  },
  "language_info": {
   "codemirror_mode": {
    "name": "ipython",
    "version": 3
   },
   "file_extension": ".py",
   "mimetype": "text/x-python",
   "name": "python",
   "nbconvert_exporter": "python",
   "pygments_lexer": "ipython3",
   "version": "3.9.7"
  }
 },
 "nbformat": 4,
 "nbformat_minor": 5
}
